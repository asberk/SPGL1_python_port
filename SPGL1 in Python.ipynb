{
 "cells": [
  {
   "cell_type": "markdown",
   "metadata": {
    "toc": "true"
   },
   "source": [
    "# Table of Contents\n",
    " <p><div class=\"lev1 toc-item\"><a href=\"#Import-packages\" data-toc-modified-id=\"Import-packages-1\"><span class=\"toc-item-num\">1&nbsp;&nbsp;</span>Import packages</a></div><div class=\"lev1 toc-item\"><a href=\"#SPGL1-example-in-Python\" data-toc-modified-id=\"SPGL1-example-in-Python-2\"><span class=\"toc-item-num\">2&nbsp;&nbsp;</span>SPGL1 example in Python</a></div><div class=\"lev1 toc-item\"><a href=\"#Proximal-Denoising:-Optimal-sigma\" data-toc-modified-id=\"Proximal-Denoising:-Optimal-sigma-3\"><span class=\"toc-item-num\">3&nbsp;&nbsp;</span>Proximal Denoising: Optimal <code>sigma</code></a></div><div class=\"lev1 toc-item\"><a href=\"#Compressed-Sensing:-optimal-sigma\" data-toc-modified-id=\"Compressed-Sensing:-optimal-sigma-4\"><span class=\"toc-item-num\">4&nbsp;&nbsp;</span>Compressed Sensing: optimal <code>sigma</code></a></div>"
   ]
  },
  {
   "cell_type": "markdown",
   "metadata": {},
   "source": [
    "$\n",
    "\\newcommand{\\reals}{\\mathbb R}\n",
    "$"
   ]
  },
  {
   "cell_type": "markdown",
   "metadata": {},
   "source": [
    "# Import packages"
   ]
  },
  {
   "cell_type": "code",
   "execution_count": 85,
   "metadata": {
    "collapsed": false
   },
   "outputs": [],
   "source": [
    "import spgl1"
   ]
  },
  {
   "cell_type": "code",
   "execution_count": 86,
   "metadata": {
    "collapsed": true
   },
   "outputs": [],
   "source": [
    "import numpy as np"
   ]
  },
  {
   "cell_type": "code",
   "execution_count": 87,
   "metadata": {
    "collapsed": true
   },
   "outputs": [],
   "source": [
    "import matplotlib.pyplot as plt\n",
    "%matplotlib inline"
   ]
  },
  {
   "cell_type": "markdown",
   "metadata": {},
   "source": [
    "# SPGL1 example in Python"
   ]
  },
  {
   "cell_type": "markdown",
   "metadata": {},
   "source": [
    "Contrive a linear model."
   ]
  },
  {
   "cell_type": "code",
   "execution_count": 88,
   "metadata": {
    "collapsed": true
   },
   "outputs": [],
   "source": [
    "m = 100  # of rows\n",
    "N = 10000  # of columns\n",
    "s = 4  # of non-zeros"
   ]
  },
  {
   "cell_type": "code",
   "execution_count": 89,
   "metadata": {
    "collapsed": true
   },
   "outputs": [],
   "source": [
    "A = np.random.randn(m, N)  # measurement matrix"
   ]
  },
  {
   "cell_type": "code",
   "execution_count": 90,
   "metadata": {
    "collapsed": true
   },
   "outputs": [],
   "source": [
    "x = np.array([1e6 for _ in range(s)] + [0 for _ in range(N-s)])  # s-sparse vector"
   ]
  },
  {
   "cell_type": "code",
   "execution_count": 91,
   "metadata": {
    "collapsed": true
   },
   "outputs": [],
   "source": [
    "eta = .1  # standard deviation of noise\n",
    "z = np.random.randn(m)  # noise vector"
   ]
  },
  {
   "cell_type": "code",
   "execution_count": 92,
   "metadata": {
    "collapsed": false
   },
   "outputs": [],
   "source": [
    "y = np.dot(A, x) + eta*z"
   ]
  },
  {
   "cell_type": "markdown",
   "metadata": {},
   "source": [
    "We can pass particular parameters to `spgl1` if we so desire. This is the function to do it; see its documentation for further details. The default parameters can be found in the output below."
   ]
  },
  {
   "cell_type": "code",
   "execution_count": 43,
   "metadata": {
    "collapsed": true
   },
   "outputs": [
    {
     "name": "stdout",
     "output_type": "stream",
     "text": [
      " Default parameters for l1Set.m:\n",
      "        fid : [ positive integer        |     1 ]\n",
      "  verbosity : [ integer: 1, 2, or 3     |     3 ]\n",
      " iterations : [ positive integer        |  10*m ]\n",
      "  nPrevVals : [ positive integer        |    10 ]\n",
      "      bpTol : [ positive scalar         | 1e-06 ]\n",
      "      lsTol : [ positive scalar         | 1e-06 ]\n",
      "     optTol : [ positive scalar         | 1e-04 ]\n",
      "     decTol : [ positive scalar         | 1e-04 ]\n",
      "    stepMin : [ positive scalar         | 1e-16 ]\n",
      "    stepMax : [ positive scalar         | 1e+05 ]\n",
      " rootMethod : [ 1=linear, 2=quadratic   |     2 ]\n",
      "activeSetIt : [ positive integer        |   Inf ]\n",
      "subspaceMin : [ 0=no, 1=yes             |     0 ]\n",
      "  iscomplex : [ 0=no, 1=yes, NaN=auto   |   NaN ]\n",
      "  maxMatvec : [ positive integer        |   Inf ]\n",
      "    weights : [ vector                  |     1 ]\n",
      "    project : [ projection function     |    @()]\n",
      "primal_norm : [ primal norm eval fun    |    @()]\n",
      "  dual_norm : [ dual norm eval fun      |    @()]\n",
      "\n"
     ]
    }
   ],
   "source": [
    "spgParms = spgl1.spgSetParms({});"
   ]
  },
  {
   "cell_type": "code",
   "execution_count": 117,
   "metadata": {
    "collapsed": true
   },
   "outputs": [],
   "source": [
    "xstar, residual, gradient, info = spgl1.spgl1(A, y, sigma=eta)"
   ]
  },
  {
   "cell_type": "code",
   "execution_count": 119,
   "metadata": {
    "collapsed": false,
    "scrolled": false
   },
   "outputs": [
    {
     "name": "stdout",
     "output_type": "stream",
     "text": [
      "|x* - x|_2 = 0.112\n"
     ]
    },
    {
     "data": {
      "image/png": "[encoded data removed]",
      "text/plain": [
       "<matplotlib.figure.Figure at 0x11c5e7400>"
      ]
     },
     "metadata": {},
     "output_type": "display_data"
    }
   ],
   "source": [
    "print('|x* - x|_2 = %5.3g' % np.linalg.norm(xstar-x, 2))\n",
    "plt.figure(figsize=(10,7))\n",
    "plt.subplot(211)\n",
    "plt.plot(y, 'b.');\n",
    "plt.hold(True)\n",
    "plt.plot(residual, 'r.');\n",
    "plt.title('measurement y = A*x + eta*z and residual r = y - A*xstar')\n",
    "plt.subplot(212)\n",
    "plt.plot(gradient, 'r.');\n",
    "plt.title('gradient g = -A.T*r');"
   ]
  },
  {
   "cell_type": "code",
   "execution_count": 120,
   "metadata": {
    "collapsed": false
   },
   "outputs": [
    {
     "data": {
      "text/plain": [
       "{'gNorm': 0.2646640958627699,\n",
       " 'iterr': 213,\n",
       " 'itnLSQR': 0,\n",
       " 'lambdaa': array([  1.19809742e+08,   7.26652988e+07,   6.96073022e+07,\n",
       "          4.58346939e+07,   3.67064719e+07,   3.66126554e+07,\n",
       "          3.35629646e+07,   2.99969838e+07,   2.78369389e+07,\n",
       "          2.57584153e+07,   3.80827829e+07,   3.48264493e+07,\n",
       "          2.30849345e+07,   2.23321499e+07,   2.22274116e+07,\n",
       "          8.03252543e+06,   7.69980643e+06,   6.52731311e+06,\n",
       "          6.12662806e+06,   5.82967895e+06,   4.46978375e+06,\n",
       "          4.37408250e+06,   5.36474603e+06,   3.91134071e+06,\n",
       "          3.53367518e+06,   3.44031748e+06,   2.83731826e+06,\n",
       "          2.68643310e+06,   4.27557441e+06,   2.64282977e+06,\n",
       "          2.41865039e+06,   2.20221403e+06,   2.12882488e+06,\n",
       "          1.74261741e+06,   2.00779264e+06,   3.15310450e+06,\n",
       "          1.79185582e+06,   1.43490826e+06,   1.24968796e+06,\n",
       "          1.17671122e+06,   9.95650438e+05,   1.62745841e+06,\n",
       "          1.14456759e+06,   8.76518898e+05,   7.75100369e+05,\n",
       "          7.31097916e+05,   6.50561918e+05,   6.51556885e+05,\n",
       "          5.54265764e+05,   6.46536088e+05,   4.96365209e+05,\n",
       "          4.75342899e+05,   4.52866222e+05,   3.52550869e+05,\n",
       "          3.83481914e+05,   6.53441764e+05,   2.58952118e+05,\n",
       "          2.23550034e+05,   1.52099206e+05,   1.51063373e+05,\n",
       "          1.35931026e+05,   9.42017047e+04,   9.31273481e+04,\n",
       "          9.90710553e+04,   1.11227754e+05,   8.28945858e+04,\n",
       "          6.68045299e+04,   6.53562513e+04,   6.23489358e+04,\n",
       "          5.03499444e+04,   6.67946598e+04,   8.53115740e+04,\n",
       "          3.92115796e+04,   3.64388760e+04,   3.35438307e+04,\n",
       "          3.32939677e+04,   1.22178624e+04,   1.10776049e+04,\n",
       "          9.86081536e+03,   9.35567605e+03,   8.81588611e+03,\n",
       "          6.74461168e+03,   6.23959875e+03,   6.01493587e+03,\n",
       "          5.30514182e+03,   4.98153467e+03,   4.65599723e+03,\n",
       "          3.73539542e+03,   3.03693033e+03,   3.56293782e+03,\n",
       "          2.61415586e+03,   2.43140622e+03,   2.33378979e+03,\n",
       "          2.07088124e+03,   1.57696300e+03,   2.38059780e+03,\n",
       "          1.93402212e+03,   1.51721508e+03,   1.19507077e+03,\n",
       "          1.12535544e+03,   1.07761391e+03,   8.98704765e+02,\n",
       "          7.84445144e+02,   9.76517315e+02,   6.70464221e+02,\n",
       "          5.98241218e+02,   5.90837751e+02,   4.96857480e+02,\n",
       "          6.97319177e+02,   7.17906460e+02,   4.62989227e+02,\n",
       "          4.03281696e+02,   3.70593849e+02,   3.56364182e+02,\n",
       "          2.90643951e+02,   3.00876173e+02,   3.72615916e+02,\n",
       "          2.55496565e+02,   2.25859474e+02,   2.16829173e+02,\n",
       "          1.92336737e+02,   1.78907754e+02,   2.15665571e+02,\n",
       "          1.69409395e+02,   1.19259223e+02,   1.19656116e+02,\n",
       "          1.16697543e+02,   1.03670453e+02,   1.05397150e+02,\n",
       "          1.02386207e+02,   7.74702636e+01,   7.48256474e+01,\n",
       "          7.10041302e+01,   6.29895456e+01,   4.45532761e+01,\n",
       "          8.18731637e+01,   7.47890283e+01,   5.56855964e+01,\n",
       "          4.16858705e+01,   4.12638844e+01,   3.88785543e+01,\n",
       "          3.01834291e+01,   2.64409335e+01,   2.49336904e+01,\n",
       "          2.13047491e+01,   1.87011323e+01,   1.74803722e+01,\n",
       "          1.63839590e+01,   1.83507699e+01,   1.61871242e+01,\n",
       "          1.57066158e+01,   1.56871237e+01,   5.46777906e+00,\n",
       "          5.34713819e+00,   4.61499498e+00,   4.38614672e+00,\n",
       "          4.23275698e+00,   3.48892711e+00,   4.11330738e+00,\n",
       "          3.25350490e+00,   3.11052016e+00,   3.01686707e+00,\n",
       "          2.89618514e+00,   2.58815698e+00,   3.15070704e+00,\n",
       "          2.77166152e+00,   2.41032533e+00,   2.31070137e+00,\n",
       "          2.27881615e+00,   2.23493774e+00,   2.39039593e+00,\n",
       "          2.45805509e+00,   2.06420554e+00,   2.05938974e+00,\n",
       "          2.05458385e+00,   2.02635725e+00,   2.22288903e+00,\n",
       "          2.28852236e+00,   1.97997389e+00,   1.95672502e+00,\n",
       "          1.95719135e+00,   1.94366901e+00,   2.00177598e+00,\n",
       "          1.96744818e+00,   1.91882332e+00,   1.91691359e+00,\n",
       "          1.02606207e+00,   6.81898963e-01,   6.00906446e-01,\n",
       "          5.14719771e-01,   4.93151798e-01,   4.47759633e-01,\n",
       "          5.73402263e-01,   4.46618145e-01,   3.92744784e-01,\n",
       "          3.86945425e-01,   3.75112293e-01,   4.26971062e-01,\n",
       "          4.10673828e-01,   3.68608786e-01,   3.54040907e-01,\n",
       "          3.55245335e-01,   3.99125026e-01,   4.41389016e-01,\n",
       "          3.83134870e-01,   3.48237635e-01,   3.44560859e-01,\n",
       "          2.72264724e-01,   2.67099583e-01,   2.66220450e-01,\n",
       "          2.67704278e-01,   2.89380204e-01,   2.69626801e-01]),\n",
       " 'nNewton': 6,\n",
       " 'nProdA': 0,\n",
       " 'nProdAt': 0,\n",
       " 'options': {'activeSetIt': inf,\n",
       "  'bpTol': 1e-06,\n",
       "  'decTol': 0.0001,\n",
       "  'dual_norm': <function spgl1.spgl_aux.NormL1_dual>,\n",
       "  'fid': 1,\n",
       "  'iscomplex': nan,\n",
       "  'iterations': 1000,\n",
       "  'lsTol': 1e-06,\n",
       "  'maxMatvec': inf,\n",
       "  'nPrevVals': 3,\n",
       "  'optTol': 0.0001,\n",
       "  'primal_norm': <function spgl1.spgl_aux.NormL1_primal>,\n",
       "  'project': <function spgl1.spgl_aux.NormL1_project>,\n",
       "  'rootMethod': 2,\n",
       "  'stepMax': 100000.0,\n",
       "  'stepMin': 1e-16,\n",
       "  'subspaceMin': 0,\n",
       "  'verbosity': 2,\n",
       "  'weights': 1},\n",
       " 'rGap': 45797.390103853075,\n",
       " 'rNorm': 0.10005397565890203,\n",
       " 'rNorm2': array([  1.87833184e+07,   1.15727891e+07,   1.11186791e+07,\n",
       "          8.83146771e+06,   7.76750307e+06,   7.29843219e+06,\n",
       "          6.78218121e+06,   6.22654049e+06,   6.01133345e+06,\n",
       "          5.39259361e+06,   5.16623427e+06,   5.37961855e+06,\n",
       "          4.85538664e+06,   4.83957909e+06,   4.83938974e+06,\n",
       "          1.72421357e+06,   1.52437749e+06,   1.27110559e+06,\n",
       "          1.18096859e+06,   1.13688787e+06,   9.52177274e+05,\n",
       "          1.11108033e+06,   1.01663104e+06,   8.20092447e+05,\n",
       "          7.32603708e+05,   7.05084719e+05,   6.22609316e+05,\n",
       "          6.27889409e+05,   6.92237362e+05,   5.91561568e+05,\n",
       "          5.02237497e+05,   4.79126427e+05,   4.62170409e+05,\n",
       "          3.70106205e+05,   4.06276642e+05,   4.50936613e+05,\n",
       "          3.73106086e+05,   2.96869048e+05,   2.74070217e+05,\n",
       "          2.61076927e+05,   2.16447231e+05,   2.49308959e+05,\n",
       "          2.33555212e+05,   1.84986303e+05,   1.63446250e+05,\n",
       "          1.56835780e+05,   1.44609485e+05,   1.27672536e+05,\n",
       "          1.30560378e+05,   1.21757757e+05,   1.08469053e+05,\n",
       "          1.02806548e+05,   9.99435677e+04,   7.73299584e+04,\n",
       "          5.43019311e+04,   8.61967573e+04,   4.99650868e+04,\n",
       "          3.85532691e+04,   3.16949112e+04,   2.95032984e+04,\n",
       "          2.70702007e+04,   2.12723546e+04,   1.82921856e+04,\n",
       "          2.15089292e+04,   1.98197798e+04,   1.67239864e+04,\n",
       "          1.42405297e+04,   1.36566758e+04,   1.28321706e+04,\n",
       "          9.58244305e+03,   9.57315701e+03,   1.03956183e+04,\n",
       "          7.69679337e+03,   7.27499724e+03,   7.25654527e+03,\n",
       "          7.25638735e+03,   2.57492478e+03,   2.24648995e+03,\n",
       "          1.90902076e+03,   1.80262581e+03,   1.72800196e+03,\n",
       "          1.41301084e+03,   1.61179613e+03,   1.26245239e+03,\n",
       "          1.08843761e+03,   1.02021325e+03,   9.56850201e+02,\n",
       "          8.22881055e+02,   6.85919402e+02,   6.95664957e+02,\n",
       "          5.78864226e+02,   5.24149526e+02,   5.06596765e+02,\n",
       "          4.62345259e+02,   3.32501705e+02,   4.13221836e+02,\n",
       "          3.80736664e+02,   3.07170777e+02,   2.58360574e+02,\n",
       "          2.45819373e+02,   2.27013951e+02,   1.95361217e+02,\n",
       "          1.93247679e+02,   1.77542396e+02,   1.47526627e+02,\n",
       "          1.34200607e+02,   1.29857269e+02,   1.12866488e+02,\n",
       "          1.22585872e+02,   1.21910756e+02,   9.94231527e+01,\n",
       "          8.59851616e+01,   8.23326164e+01,   7.80849288e+01,\n",
       "          6.36620528e+01,   6.84151506e+01,   6.49112587e+01,\n",
       "          5.48076107e+01,   4.95001351e+01,   4.79889795e+01,\n",
       "          4.31168858e+01,   3.64275179e+01,   4.77593053e+01,\n",
       "          3.54393243e+01,   2.96280307e+01,   2.72265404e+01,\n",
       "          2.60997685e+01,   2.21857445e+01,   2.29626518e+01,\n",
       "          2.03477278e+01,   1.76408849e+01,   1.59280982e+01,\n",
       "          1.54521315e+01,   1.36955099e+01,   8.74321541e+00,\n",
       "          1.51692989e+01,   1.24685128e+01,   9.86482392e+00,\n",
       "          7.98341761e+00,   7.27412980e+00,   6.89815000e+00,\n",
       "          5.77167433e+00,   4.99405741e+00,   4.70598987e+00,\n",
       "          4.27355279e+00,   3.95434096e+00,   3.83500647e+00,\n",
       "          3.62764607e+00,   3.62101937e+00,   3.60980769e+00,\n",
       "          3.60846963e+00,   3.60846841e+00,   1.40464816e+00,\n",
       "          1.25187797e+00,   1.07052565e+00,   1.00446204e+00,\n",
       "          9.78324744e-01,   9.02661624e-01,   9.49712494e-01,\n",
       "          8.60015487e-01,   8.28129726e-01,   8.17490455e-01,\n",
       "          8.00364437e-01,   7.45144634e-01,   7.74454851e-01,\n",
       "          7.55260639e-01,   7.26274509e-01,   7.19069535e-01,\n",
       "          7.16645410e-01,   7.04345527e-01,   7.11238075e-01,\n",
       "          7.02517251e-01,   6.94817137e-01,   6.93817689e-01,\n",
       "          6.93101743e-01,   6.90175668e-01,   6.92333562e-01,\n",
       "          6.92666473e-01,   6.88728034e-01,   6.88167728e-01,\n",
       "          6.88061231e-01,   6.87762223e-01,   6.87558579e-01,\n",
       "          6.87473947e-01,   6.87262266e-01,   6.87238389e-01,\n",
       "          2.56079672e-01,   2.06100410e-01,   1.76999223e-01,\n",
       "          1.65875351e-01,   1.60496718e-01,   1.50463570e-01,\n",
       "          1.56319104e-01,   1.45780571e-01,   1.41265552e-01,\n",
       "          1.40153466e-01,   1.37743794e-01,   1.35818017e-01,\n",
       "          1.34809504e-01,   1.33487908e-01,   1.33208891e-01,\n",
       "          1.32605079e-01,   1.31610026e-01,   1.32467756e-01,\n",
       "          1.30733164e-01,   1.30244891e-01,   1.30155760e-01,\n",
       "          1.01028694e-01,   1.00837050e-01,   1.00635655e-01,\n",
       "          1.00417889e-01,   1.00363689e-01,   1.00151977e-01]),\n",
       " 'stat': 2,\n",
       " 'tau': 4000000.2971354751,\n",
       " 'timeMatProd': 0,\n",
       " 'timeProject': 0,\n",
       " 'xNorm1': array([       0.        ,  2944777.65257238,  2944777.6525724 ,\n",
       "         2944777.65257241,  2944777.65257241,  2944777.6525724 ,\n",
       "         2944777.6525724 ,  2944777.6525724 ,  2944777.6525724 ,\n",
       "         2944777.65257241,  2944777.6525724 ,  2944777.6525724 ,\n",
       "         2944777.6525724 ,  2944777.6525724 ,  2944777.6525724 ,\n",
       "         3998417.76751275,  3998417.76751276,  3998417.76751275,\n",
       "         3998417.76751275,  3998417.76751276,  3998417.76751275,\n",
       "         3998417.76751275,  3998417.76751275,  3998417.76751275,\n",
       "         3998417.76751276,  3998417.76751275,  3998417.76751275,\n",
       "         3998417.76751275,  3998417.76751275,  3998417.76751275,\n",
       "         3998417.76751275,  3998417.76751275,  3998417.76751276,\n",
       "         3998417.76751275,  3998417.76751275,  3998417.76751276,\n",
       "         3998417.76751275,  3998417.76751275,  3998417.76751275,\n",
       "         3998417.76751276,  3998417.76751275,  3998417.76751275,\n",
       "         3998417.76751275,  3998417.76751275,  3998417.76751275,\n",
       "         3998417.76751275,  3998417.76751275,  3998417.76751275,\n",
       "         3998417.76751275,  3998417.76751275,  3998417.76751275,\n",
       "         3998417.76751275,  3998417.76751275,  3998417.76751275,\n",
       "         3998417.76751275,  3998417.76751275,  3998417.76751275,\n",
       "         3998417.76751275,  3998417.76751276,  3998417.76751275,\n",
       "         3998417.76751275,  3998417.76751275,  3998417.76751275,\n",
       "         3998417.76751275,  3998417.76751275,  3998417.76751275,\n",
       "         3998417.76751275,  3998417.76751275,  3998417.76751275,\n",
       "         3998417.76751275,  3998417.76751275,  3998417.76751275,\n",
       "         3998417.76751275,  3998417.76751275,  3998417.76751275,\n",
       "         3998417.76751275,  3999999.26816785,  3999999.26816785,\n",
       "         3999999.26816784,  3999999.26816784,  3999999.26816784,\n",
       "         3999999.26816784,  3999999.26816785,  3999999.26816785,\n",
       "         3999999.26816785,  3999999.26816785,  3999999.26816784,\n",
       "         3999999.26816785,  3999999.26816784,  3999999.26816785,\n",
       "         3999999.26816784,  3999999.26816785,  3999999.26816785,\n",
       "         3999999.26816785,  3999999.26816784,  3999999.26816785,\n",
       "         3999999.26816785,  3999999.26816784,  3999999.26816784,\n",
       "         3999999.26816785,  3999999.26816785,  3999999.26816784,\n",
       "         3999999.26816785,  3999999.26816785,  3999999.26816785,\n",
       "         3999999.26816784,  3999999.26816785,  3999999.26816785,\n",
       "         3999999.26816785,  3999999.26816784,  3999999.26816784,\n",
       "         3999999.26816785,  3999999.26816785,  3999999.26816784,\n",
       "         3999999.26816785,  3999999.26816785,  3999999.26816785,\n",
       "         3999999.26816785,  3999999.26816785,  3999999.26816785,\n",
       "         3999999.26816785,  3999999.26816784,  3999999.26816785,\n",
       "         3999999.26816785,  3999999.26816785,  3999999.26816785,\n",
       "         3999999.26816785,  3999999.26816784,  3999999.26816785,\n",
       "         3999999.26816784,  3999999.26816785,  3999999.26816784,\n",
       "         3999999.26816785,  3999999.26816785,  3999999.26816785,\n",
       "         3999999.26816785,  3999999.26816785,  3999999.26816785,\n",
       "         3999999.26816784,  3999999.26816784,  3999999.26816785,\n",
       "         3999999.26816784,  3999999.26816785,  3999999.26816785,\n",
       "         3999999.26816785,  3999999.26816785,  3999999.26816784,\n",
       "         3999999.26816785,  3999999.26816785,  3999999.26816785,\n",
       "         3999999.26816785,  3999999.26816785,  4000000.07521174,\n",
       "         4000000.07521174,  4000000.07521174,  4000000.07521174,\n",
       "         4000000.07521174,  4000000.07521174,  4000000.07521174,\n",
       "         4000000.07521174,  4000000.07521174,  4000000.07521174,\n",
       "         4000000.07521174,  4000000.07521174,  4000000.07521174,\n",
       "         4000000.07521174,  4000000.07521174,  4000000.07521174,\n",
       "         4000000.07521174,  4000000.07521174,  4000000.07521174,\n",
       "         4000000.07521174,  4000000.07521174,  4000000.07521174,\n",
       "         4000000.07521174,  4000000.07521174,  4000000.07521174,\n",
       "         4000000.07521174,  4000000.07521174,  4000000.07521174,\n",
       "         4000000.07521174,  4000000.07521174,  4000000.07521174,\n",
       "         4000000.07521174,  4000000.07521174,  4000000.07521174,\n",
       "         4000000.28574432,  4000000.28574432,  4000000.28574432,\n",
       "         4000000.28574432,  4000000.28574433,  4000000.28574432,\n",
       "         4000000.28574432,  4000000.28574433,  4000000.28574432,\n",
       "         4000000.28574432,  4000000.28574432,  4000000.28574432,\n",
       "         4000000.28574432,  4000000.28574432,  4000000.28574432,\n",
       "         4000000.28574432,  4000000.28574432,  4000000.28574432,\n",
       "         4000000.28574432,  4000000.28574432,  4000000.28574432,\n",
       "         4000000.29713548,  4000000.29713547,  4000000.29713547,\n",
       "         4000000.29713548,  4000000.29713548,  4000000.29713548])}"
      ]
     },
     "execution_count": 120,
     "metadata": {},
     "output_type": "execute_result"
    }
   ],
   "source": [
    "info"
   ]
  },
  {
   "cell_type": "markdown",
   "metadata": {},
   "source": [
    "# Proximal Denoising: Optimal `sigma`"
   ]
  },
  {
   "cell_type": "markdown",
   "metadata": {},
   "source": [
    "In this section we're going to be trying to generate instability in the problem to try to get something that mirrors the theoretical results we have. "
   ]
  },
  {
   "cell_type": "code",
   "execution_count": 130,
   "metadata": {
    "collapsed": true
   },
   "outputs": [],
   "source": [
    "N = 10000\n",
    "m = N\n",
    "s = 3\n",
    "x = np.array([1e6 for _ in range(s)] + [0 for _ in range(N-s)])\n",
    "z = np.random.randn(m)\n",
    "eta = .1\n",
    "y = x + eta*z"
   ]
  },
  {
   "cell_type": "markdown",
   "metadata": {},
   "source": [
    "We know that the solution to the problem is given by soft thresholding. We'll be looking to say something about the vectors $q, \\bar q \\in \\reals^N$ that were defined in the document I'm currently working on. "
   ]
  },
  {
   "cell_type": "markdown",
   "metadata": {},
   "source": [
    "# Compressed Sensing: optimal `sigma`"
   ]
  },
  {
   "cell_type": "markdown",
   "metadata": {},
   "source": [
    "This function is basically a fancy kind of transpose for un-nesting and re-nesting a list of lists."
   ]
  },
  {
   "cell_type": "code",
   "execution_count": 50,
   "metadata": {
    "collapsed": true
   },
   "outputs": [],
   "source": [
    "def unzip(tuples):\n",
    "    return zip(*tuples)"
   ]
  },
  {
   "cell_type": "markdown",
   "metadata": {},
   "source": [
    "Define the vector of thresholds to use."
   ]
  },
  {
   "cell_type": "code",
   "execution_count": 68,
   "metadata": {
    "collapsed": false
   },
   "outputs": [],
   "source": [
    "sigma_vec = np.logspace(-1, 0.5, 101).tolist()"
   ]
  },
  {
   "cell_type": "markdown",
   "metadata": {},
   "source": [
    "Create a series of models using each of the threshold values defined above."
   ]
  },
  {
   "cell_type": "code",
   "execution_count": 69,
   "metadata": {
    "collapsed": false
   },
   "outputs": [],
   "source": [
    "spgl1_models = [spgl1.spgl1(A, y, sigma=sigma) for sigma in sigma_vec]"
   ]
  },
  {
   "cell_type": "markdown",
   "metadata": {},
   "source": [
    "Create the vector of $x^*$'s, residuals, gradients and info's that are returned by each call to `spgl1`."
   ]
  },
  {
   "cell_type": "code",
   "execution_count": 70,
   "metadata": {
    "collapsed": true
   },
   "outputs": [],
   "source": [
    "xstar, residual, gradient, info = unzip(spgl1_models)"
   ]
  },
  {
   "cell_type": "markdown",
   "metadata": {},
   "source": [
    "Compute the mean-squared error between the true `x` and the recovered one. "
   ]
  },
  {
   "cell_type": "code",
   "execution_count": 94,
   "metadata": {
    "collapsed": true
   },
   "outputs": [],
   "source": [
    "mse = np.array([np.linalg.norm(x-xs,2) for xs in xstar])"
   ]
  },
  {
   "cell_type": "markdown",
   "metadata": {},
   "source": [
    "Plot the result as a function of `sigma`."
   ]
  },
  {
   "cell_type": "code",
   "execution_count": 108,
   "metadata": {
    "collapsed": false
   },
   "outputs": [
    {
     "data": {
      "text/plain": [
       "array([ 0.1       ,  0.10351422,  0.10715193,  0.11091748,  0.11481536,\n",
       "        0.11885022,  0.12302688,  0.12735031,  0.13182567,  0.13645831,\n",
       "        0.14125375,  0.14621772,  0.15135612,  0.15667511,  0.16218101,\n",
       "        0.1678804 ,  0.17378008,  0.17988709,  0.18620871,  0.19275249,\n",
       "        0.19952623,  0.20653802,  0.21379621,  0.22130947,  0.22908677,\n",
       "        0.23713737,  0.24547089,  0.25409727,  0.2630268 ,  0.27227013,\n",
       "        0.28183829,  0.2917427 ,  0.30199517,  0.31260794,  0.32359366,\n",
       "        0.33496544,  0.34673685,  0.35892193,  0.37153523,  0.38459178,\n",
       "        0.39810717,  0.41209752,  0.42657952,  0.44157045,  0.45708819,\n",
       "        0.47315126,  0.48977882,  0.50699071,  0.52480746,  0.54325033,\n",
       "        0.56234133,  0.58210322,  0.60255959,  0.62373484,  0.64565423,\n",
       "        0.66834392,  0.69183097,  0.71614341,  0.74131024,  0.76736149,\n",
       "        0.79432823,  0.82224265,  0.85113804,  0.88104887,  0.91201084,\n",
       "        0.94406088,  0.97723722,  1.01157945,  1.04712855,  1.08392691,\n",
       "        1.12201845,  1.16144861,  1.20226443,  1.24451461,  1.28824955,\n",
       "        1.33352143,  1.38038426])"
      ]
     },
     "execution_count": 108,
     "metadata": {},
     "output_type": "execute_result"
    }
   ],
   "source": [
    "np.array(sigma_vec)[(mse < ymax).T]"
   ]
  },
  {
   "cell_type": "code",
   "execution_count": 123,
   "metadata": {
    "collapsed": false
   },
   "outputs": [
    {
     "data": {
      "image/png": "[encoded data removed]",
      "text/plain": [
       "<matplotlib.figure.Figure at 0x11c94f198>"
      ]
     },
     "metadata": {},
     "output_type": "display_data"
    }
   ],
   "source": [
    "ymax = .1\n",
    "ymin = min(mse)\n",
    "ymin = ymin - (ymax-ymin)*.1\n",
    "sigma2 = np.array(sigma_vec)[mse < ymax]\n",
    "mse2 = mse[mse < ymax]\n",
    "plt.figure(figsize=(10,5))\n",
    "plt.plot(sigma2, mse2, 'b.')\n",
    "plt.xscale('log')\n",
    "plt.hlines(min(mse), sigma2[0], sigma2[-1], colors='r', linestyles='dashed')\n",
    "plt.xlim(sigma2[0], sigma2[-1]);\n",
    "plt.xlabel('sigma')\n",
    "plt.ylabel('MSE')\n",
    "plt.title('MSE as a function of threshold sigma');"
   ]
  }
 ],
 "metadata": {
  "kernelspec": {
   "display_name": "Python 3",
   "language": "python",
   "name": "python3"
  },
  "language_info": {
   "codemirror_mode": {
    "name": "ipython",
    "version": 3
   },
   "file_extension": ".py",
   "mimetype": "text/x-python",
   "name": "python",
   "nbconvert_exporter": "python",
   "pygments_lexer": "ipython3",
   "version": "3.5.2"
  },
  "toc": {
   "nav_menu": {
    "height": "84px",
    "width": "252px"
   },
   "navigate_menu": true,
   "number_sections": true,
   "sideBar": true,
   "threshold": 4,
   "toc_cell": true,
   "toc_section_display": "block",
   "toc_window_display": false
  }
 },
 "nbformat": 4,
 "nbformat_minor": 1
}
